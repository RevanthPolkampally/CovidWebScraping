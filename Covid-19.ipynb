{
 "cells": [
  {
   "cell_type": "code",
   "execution_count": 3,
   "metadata": {},
   "outputs": [],
   "source": [
    "import pandas as pd\n",
    "import numpy as np\n",
    "import requests\n",
    "from bs4 import BeautifulSoup\n"
   ]
  },
  {
   "cell_type": "code",
   "execution_count": 2,
   "metadata": {},
   "outputs": [],
   "source": [
    "url = 'https://www.worldometers.info/coronavirus/'\n",
    "    \n",
    "page = requests.get(url).text\n",
    "soup = BeautifulSoup(page,'lxml')\n",
    "\n",
    "todaycases = soup.find('table',id='main_table_countries_today')\n",
    "    \n",
    "\n",
    "todaycasesdata = todaycases.tbody.find_all('tr')\n",
    "    \n",
    "\n",
    "dic = {}\n",
    "for i in range(len(todaycasesdata)):\n",
    "        #some are in td tag and some in a tag\n",
    "        try:\n",
    "            k = todaycasesdata[i].find_all('a',href = True)[0].string\n",
    "        except:\n",
    "            k = todaycasesdata[i].find_all('td')[0].string\n",
    "        values = [j.string for j in todaycasesdata[i].find_all('td')]\n",
    "        dic[k] = values\n",
    "columnnames = [\"Total Cases\",\"New Cases\",\"Total Deaths\",\"New Deaths\",\"Total Recovered\",\n",
    "                  \"Active\",\"Serious/Critical\",\"Total Cases/1M population\",\"Total Deaths/1M population\"]\n",
    "df = pd.DataFrame(dic).iloc[1:,:].T.iloc[:,:9]\n",
    "df.index_name = \"Country\"\n",
    "df.columns = columnnames\n",
    "    \n",
    "    \n",
    "df.to_csv(r\"C:\\Users\\revan\\Desktop\\Live Cases COVID2019.csv\")\n"
   ]
  }
 ],
 "metadata": {
  "kernelspec": {
   "display_name": "Python 3",
   "language": "python",
   "name": "python3"
  },
  "language_info": {
   "codemirror_mode": {
    "name": "ipython",
    "version": 3
   },
   "file_extension": ".py",
   "mimetype": "text/x-python",
   "name": "python",
   "nbconvert_exporter": "python",
   "pygments_lexer": "ipython3",
   "version": "3.7.6"
  }
 },
 "nbformat": 4,
 "nbformat_minor": 4
}
